{
 "cells": [
  {
   "cell_type": "code",
   "execution_count": 2,
   "id": "ccbaef4d",
   "metadata": {},
   "outputs": [
    {
     "name": "stdout",
     "output_type": "stream",
     "text": [
      "all ok\n"
     ]
    }
   ],
   "source": [
    "print(\"all ok\")"
   ]
  },
  {
   "cell_type": "code",
   "execution_count": 6,
   "id": "70db1e05",
   "metadata": {},
   "outputs": [],
   "source": [
    "from logger.custom_logger import CustomLogger\n",
    "logger_exe=CustomLogger().get_logger(\"Document exception\")"
   ]
  },
  {
   "cell_type": "code",
   "execution_count": 8,
   "id": "38a4cd80",
   "metadata": {},
   "outputs": [
    {
     "ename": "DocumentPortalException",
     "evalue": "\n            Error in [C:\\Users\\Hp\\AppData\\Local\\Temp\\ipykernel_16876\\4093070343.py] at line [22]\n            Message: division by zero\n            Traceback: Traceback (most recent call last):\n  File \"C:\\Users\\Hp\\AppData\\Local\\Temp\\ipykernel_16876\\4093070343.py\", line 22, in <module>\n    a=1/0\nZeroDivisionError: division by zero\n\n        \n        ",
     "output_type": "error",
     "traceback": [
      "\u001b[1;31m---------------------------------------------------------------------------\u001b[0m",
      "\u001b[1;31mZeroDivisionError\u001b[0m                         Traceback (most recent call last)",
      "Cell \u001b[1;32mIn[8], line 22\u001b[0m\n\u001b[0;32m     21\u001b[0m \u001b[38;5;28;01mtry\u001b[39;00m:\n\u001b[1;32m---> 22\u001b[0m     a\u001b[38;5;241m=\u001b[39m\u001b[38;5;241;43m1\u001b[39;49m\u001b[38;5;241;43m/\u001b[39;49m\u001b[38;5;241;43m0\u001b[39;49m\n\u001b[0;32m     23\u001b[0m     \u001b[38;5;28mprint\u001b[39m(a)\n",
      "\u001b[1;31mZeroDivisionError\u001b[0m: division by zero",
      "\nDuring handling of the above exception, another exception occurred:\n",
      "\u001b[1;31mDocumentPortalException\u001b[0m                   Traceback (most recent call last)",
      "Cell \u001b[1;32mIn[8], line 27\u001b[0m\n\u001b[0;32m     25\u001b[0m app_exc\u001b[38;5;241m=\u001b[39mDocumentPortalException(e,sys)\n\u001b[0;32m     26\u001b[0m logger_exe\u001b[38;5;241m.\u001b[39merror(app_exc)\n\u001b[1;32m---> 27\u001b[0m \u001b[38;5;28;01mraise\u001b[39;00m app_exc\n",
      "\u001b[1;31mDocumentPortalException\u001b[0m: \n            Error in [C:\\Users\\Hp\\AppData\\Local\\Temp\\ipykernel_16876\\4093070343.py] at line [22]\n            Message: division by zero\n            Traceback: Traceback (most recent call last):\n  File \"C:\\Users\\Hp\\AppData\\Local\\Temp\\ipykernel_16876\\4093070343.py\", line 22, in <module>\n    a=1/0\nZeroDivisionError: division by zero\n\n        \n        "
     ]
    }
   ],
   "source": [
    "import traceback\n",
    "import sys\n",
    "class DocumentPortalException(Exception):\n",
    "    \"\"\"Custom Exception for Document Portal\"\"\"\n",
    "    def __init__(self,error_message:str,error_detail:sys):\n",
    "        _,_,exc_tb=error_detail.exc_info()\n",
    "        self.filename=exc_tb.tb_frame.f_code.co_filename\n",
    "        self.lineno=exc_tb.tb_lineno\n",
    "        self.error_message=str(error_message)\n",
    "        self.traceback_str=\"\".join(traceback.format_exception(*error_detail.exc_info()))\n",
    "        \n",
    "    def __str__(self):\n",
    "        return f\"\"\"\n",
    "            Error in [{self.filename}] at line [{self.lineno}]\n",
    "            Message: {self.error_message}\n",
    "            Traceback: {self.traceback_str}\n",
    "        \n",
    "        \"\"\"\n",
    "\n",
    "if __name__==\"__main__\":\n",
    "    try:\n",
    "        a=1/0\n",
    "        print(a)\n",
    "    except Exception as e:\n",
    "        app_exc=DocumentPortalException(e,sys)\n",
    "        logger_exe.error(app_exc)\n",
    "        raise app_exc\n"
   ]
  },
  {
   "cell_type": "code",
   "execution_count": 10,
   "id": "4c1ce259",
   "metadata": {},
   "outputs": [],
   "source": [
    "import structlog\n",
    "\n",
    "log=structlog.get_logger()"
   ]
  },
  {
   "cell_type": "code",
   "execution_count": 11,
   "id": "71fa5732",
   "metadata": {},
   "outputs": [
    {
     "name": "stdout",
     "output_type": "stream",
     "text": [
      "2025-08-01 00:57:34 [info     ] User uploaded a file           filename=report.pdf user_id=123\n"
     ]
    }
   ],
   "source": [
    "log.info(\"User uploaded a file\",user_id=123,filename=\"report.pdf\")"
   ]
  },
  {
   "cell_type": "code",
   "execution_count": null,
   "id": "d7c1bce1",
   "metadata": {},
   "outputs": [],
   "source": []
  }
 ],
 "metadata": {
  "kernelspec": {
   "display_name": "llmops_venv",
   "language": "python",
   "name": "python3"
  },
  "language_info": {
   "codemirror_mode": {
    "name": "ipython",
    "version": 3
   },
   "file_extension": ".py",
   "mimetype": "text/x-python",
   "name": "python",
   "nbconvert_exporter": "python",
   "pygments_lexer": "ipython3",
   "version": "3.10.18"
  }
 },
 "nbformat": 4,
 "nbformat_minor": 5
}
