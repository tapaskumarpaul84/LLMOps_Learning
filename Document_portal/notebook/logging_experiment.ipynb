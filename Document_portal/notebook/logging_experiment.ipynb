{
 "cells": [
  {
   "cell_type": "code",
   "execution_count": 1,
   "id": "5cf5e750",
   "metadata": {},
   "outputs": [
    {
     "name": "stdout",
     "output_type": "stream",
     "text": [
      "all ok\n"
     ]
    }
   ],
   "source": [
    "print(\"all ok\")"
   ]
  },
  {
   "cell_type": "code",
   "execution_count": 2,
   "id": "d236023b",
   "metadata": {},
   "outputs": [],
   "source": [
    "import logging\n",
    "import os\n",
    "from datetime import datetime"
   ]
  },
  {
   "cell_type": "code",
   "execution_count": 6,
   "id": "f9977f20",
   "metadata": {},
   "outputs": [],
   "source": [
    "logs_dir=os.path.join(os.getcwd(),'logs')"
   ]
  },
  {
   "cell_type": "code",
   "execution_count": 7,
   "id": "469daa1c",
   "metadata": {},
   "outputs": [],
   "source": [
    "os.makedirs(logs_dir,exist_ok=True)"
   ]
  },
  {
   "cell_type": "code",
   "execution_count": 8,
   "id": "57f81b88",
   "metadata": {},
   "outputs": [],
   "source": [
    "LOG_FILE=f\"{datetime.now().strftime('%m-%d-%Y_%H_%M_%S')}.log\""
   ]
  },
  {
   "cell_type": "code",
   "execution_count": 9,
   "id": "e4a5bd43",
   "metadata": {},
   "outputs": [
    {
     "data": {
      "text/plain": [
       "'07-31-2025_21_51_56.log'"
      ]
     },
     "execution_count": 9,
     "metadata": {},
     "output_type": "execute_result"
    }
   ],
   "source": [
    "LOG_FILE"
   ]
  },
  {
   "cell_type": "code",
   "execution_count": 12,
   "id": "1861dee6",
   "metadata": {},
   "outputs": [],
   "source": [
    "LOG_FILE_PATH=os.path.join(logs_dir,LOG_FILE)"
   ]
  },
  {
   "cell_type": "code",
   "execution_count": 13,
   "id": "892ee595",
   "metadata": {},
   "outputs": [
    {
     "data": {
      "text/plain": [
       "'f:\\\\Tapas\\\\Learning\\\\LLMOps\\\\LLMOps_Learning\\\\Document_portal\\\\notebook\\\\logs\\\\07-31-2025_21_51_56.log'"
      ]
     },
     "execution_count": 13,
     "metadata": {},
     "output_type": "execute_result"
    }
   ],
   "source": [
    "LOG_FILE_PATH"
   ]
  },
  {
   "cell_type": "code",
   "execution_count": 14,
   "id": "6cdc16fe",
   "metadata": {},
   "outputs": [],
   "source": [
    "logging.basicConfig(\n",
    "    filename=LOG_FILE_PATH,\n",
    "    format=\"[ %(asctime)s] %(levelname)s %(name)s (line: %(lineno)d) - %(message)s\",\n",
    "    level=logging.INFO\n",
    ")"
   ]
  },
  {
   "cell_type": "code",
   "execution_count": 15,
   "id": "6e8aa8fe",
   "metadata": {},
   "outputs": [],
   "source": [
    "logger=logging.getLogger(\"DocumentPortal\")"
   ]
  },
  {
   "cell_type": "code",
   "execution_count": 16,
   "id": "be09f321",
   "metadata": {},
   "outputs": [],
   "source": [
    "logger.info(\"This is an info message\")"
   ]
  },
  {
   "cell_type": "code",
   "execution_count": null,
   "id": "dc64d220",
   "metadata": {},
   "outputs": [],
   "source": []
  }
 ],
 "metadata": {
  "kernelspec": {
   "display_name": "llmops_venv",
   "language": "python",
   "name": "python3"
  },
  "language_info": {
   "codemirror_mode": {
    "name": "ipython",
    "version": 3
   },
   "file_extension": ".py",
   "mimetype": "text/x-python",
   "name": "python",
   "nbconvert_exporter": "python",
   "pygments_lexer": "ipython3",
   "version": "3.10.18"
  }
 },
 "nbformat": 4,
 "nbformat_minor": 5
}
